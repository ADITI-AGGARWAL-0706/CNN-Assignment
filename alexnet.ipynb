{
 "cells": [
  {
   "cell_type": "code",
   "execution_count": 1,
   "id": "8af45528",
   "metadata": {},
   "outputs": [],
   "source": [
    "import os\n",
    "import torch\n",
    "import torchvision\n",
    "import numpy as np\n",
    "import pandas as pd\n",
    "import torch.nn as nn\n",
    "import torch.optim as optim\n",
    "import matplotlib.pyplot as plt\n",
    "import torch.nn.functional as F\n",
    "from PIL import Image\n",
    "from torchvision import transforms, datasets\n",
    "from torch.utils.data import Dataset, DataLoader"
   ]
  },
  {
   "cell_type": "code",
   "execution_count": 2,
   "id": "b66d9a43",
   "metadata": {},
   "outputs": [
    {
     "name": "stdout",
     "output_type": "stream",
     "text": [
      "1.13.1+cpu\n",
      "cpu\n"
     ]
    }
   ],
   "source": [
    "# training the batches of our network\n",
    "EPOCHS = 10\n",
    "# size of each batch\n",
    "BATCH_SIZE = 512\n",
    "\n",
    "DEVICE = (\"cuda\" if torch.cuda.is_available() else \"cpu\")\n",
    "class_names = ['T-shirt/top', 'Trouser', 'Pullover', 'Dress', 'Coat',\n",
    "               'Sandal', 'Shirt', 'Sneaker', 'Bag', 'Ankle boot']\n",
    "\n",
    "print(torch.__version__)\n",
    "print(DEVICE)"
   ]
  },
  {
   "cell_type": "code",
   "execution_count": 3,
   "id": "39a31804",
   "metadata": {},
   "outputs": [
    {
     "name": "stdout",
     "output_type": "stream",
     "text": [
      "(60000, 785)\n",
      "(10000, 785)\n"
     ]
    }
   ],
   "source": [
    "# Importing the FashionMNIST dataset and splitting into training and testing datasets\n",
    "\n",
    "train_csv = pd.read_csv('//uofa/users$/users9/a1876729/Downloads/CNN assignment/fashion-mnist_train.csv')\n",
    "test_csv = pd.read_csv('//uofa/users$/users9/a1876729/Downloads/CNN assignment/fashion-mnist_test.csv')\n",
    "\n",
    "\n",
    "print(train_csv.shape)\n",
    "print(test_csv.shape)"
   ]
  },
  {
   "cell_type": "code",
   "execution_count": 4,
   "id": "0fc8581e",
   "metadata": {},
   "outputs": [
    {
     "name": "stdout",
     "output_type": "stream",
     "text": [
      "<class 'pandas.core.frame.DataFrame'>\n",
      "RangeIndex: 60000 entries, 0 to 59999\n",
      "Columns: 785 entries, label to pixel784\n",
      "dtypes: int64(785)\n",
      "memory usage: 359.3 MB\n",
      "None\n",
      "   label  pixel1  pixel2  pixel3  pixel4  pixel5  pixel6  pixel7  pixel8  \\\n",
      "0      2       0       0       0       0       0       0       0       0   \n",
      "1      9       0       0       0       0       0       0       0       0   \n",
      "2      6       0       0       0       0       0       0       0       5   \n",
      "3      0       0       0       0       1       2       0       0       0   \n",
      "4      3       0       0       0       0       0       0       0       0   \n",
      "\n",
      "   pixel9  ...  pixel775  pixel776  pixel777  pixel778  pixel779  pixel780  \\\n",
      "0       0  ...         0         0         0         0         0         0   \n",
      "1       0  ...         0         0         0         0         0         0   \n",
      "2       0  ...         0         0         0        30        43         0   \n",
      "3       0  ...         3         0         0         0         0         1   \n",
      "4       0  ...         0         0         0         0         0         0   \n",
      "\n",
      "   pixel781  pixel782  pixel783  pixel784  \n",
      "0         0         0         0         0  \n",
      "1         0         0         0         0  \n",
      "2         0         0         0         0  \n",
      "3         0         0         0         0  \n",
      "4         0         0         0         0  \n",
      "\n",
      "[5 rows x 785 columns]\n"
     ]
    }
   ],
   "source": [
    "print(train_csv.info())\n",
    "print(train_csv.head())"
   ]
  },
  {
   "cell_type": "code",
   "execution_count": 5,
   "id": "07f5aa77",
   "metadata": {},
   "outputs": [],
   "source": [
    "class FashionDataset(Dataset):\n",
    "    def __init__(self, data, transform=None):        \n",
    "        self.fashion_MNIST = list(data.values)\n",
    "        self.transform = transform\n",
    "        \n",
    "        label, image = [], []\n",
    "        \n",
    "        for i in self.fashion_MNIST:\n",
    "            label.append(i[0])\n",
    "            image.append(i[1:])\n",
    "        self.labels = np.asarray(label)\n",
    "        self.images = np.asarray(image).reshape(-1, 28, 28).astype('float32')\n",
    "        \n",
    "    def __len__(self):\n",
    "        return len(self.images)\n",
    "    \n",
    "    def __getitem__(self, idx):\n",
    "        label = self.labels[idx]\n",
    "        image = self.images[idx]      \n",
    "        \n",
    "        if self.transform is not None:\n",
    "            # transfroming the numpy array to PIL image before the transform function\n",
    "            pil_image = Image.fromarray(np.uint8(image)) \n",
    "            image = self.transform(pil_image)\n",
    "            \n",
    "        return image, label"
   ]
  },
  {
   "cell_type": "code",
   "execution_count": 6,
   "id": "a1969b1c",
   "metadata": {},
   "outputs": [],
   "source": [
    "AlexTransform = transforms.Compose([\n",
    "    transforms.Resize((227, 227)),\n",
    "    transforms.ToTensor(),\n",
    "    transforms.Normalize((0.1307,), (0.3081,))\n",
    "])"
   ]
  },
  {
   "cell_type": "code",
   "execution_count": 7,
   "id": "4b1d949c",
   "metadata": {},
   "outputs": [],
   "source": [
    "train_loader = DataLoader(\n",
    "    FashionDataset(train_csv, transform=AlexTransform), \n",
    "    batch_size=BATCH_SIZE, shuffle=True)\n",
    "\n",
    "test_loader = DataLoader(\n",
    "    FashionDataset(test_csv, transform=AlexTransform), \n",
    "    batch_size=BATCH_SIZE, shuffle=True)"
   ]
  },
  {
   "cell_type": "code",
   "execution_count": 8,
   "id": "6ff0980a",
   "metadata": {},
   "outputs": [
    {
     "name": "stdout",
     "output_type": "stream",
     "text": [
      "Bag\n"
     ]
    },
    {
     "data": {
      "image/png": "[encoded data removed]",
      "text/plain": [
       "<Figure size 640x480 with 1 Axes>"
      ]
     },
     "metadata": {},
     "output_type": "display_data"
    }
   ],
   "source": [
    "# visualizing an image\n",
    "def matplotlib_imshow(img):\n",
    "    img = img.mean(dim=0)\n",
    "    img = img / 2 + 0.5   \n",
    "    npimg = img.numpy()\n",
    "    plt.imshow(npimg, cmap=\"Greys\")\n",
    "\n",
    "# getting some random training images\n",
    "dataiter = iter(train_loader)\n",
    "images, labels = next(dataiter)\n",
    "\n",
    "# creating a grid of images\n",
    "img_grid = torchvision.utils.make_grid(images[0])\n",
    "\n",
    "# show images & labels\n",
    "matplotlib_imshow(img_grid)\n",
    "print(class_names[labels[0]])"
   ]
  },
  {
   "cell_type": "code",
   "execution_count": 9,
   "id": "79be55fc",
   "metadata": {},
   "outputs": [],
   "source": [
    "class fasion_mnist_alexnet(nn.Module):  \n",
    "    def __init__(self):\n",
    "        super().__init__()\n",
    "        self.conv1 = nn.Sequential(\n",
    "            nn.Conv2d(in_channels=1, out_channels=96, kernel_size=11, stride=4, padding=0),\n",
    "            nn.ReLU(),\n",
    "            nn.MaxPool2d(kernel_size=3, stride=2)\n",
    "        )\n",
    "        self.conv2 = nn.Sequential(\n",
    "            nn.Conv2d(96, 256, 5, 1, 2),\n",
    "            nn.ReLU(),\n",
    "            nn.MaxPool2d(3, 2)\n",
    "        )\n",
    "        self.conv3 = nn.Sequential(\n",
    "            nn.Conv2d(256, 384, 3, 1, 1),\n",
    "            nn.ReLU()\n",
    "        )\n",
    "        self.conv4 = nn.Sequential(\n",
    "            nn.Conv2d(384, 384, 3, 1, 1),\n",
    "            nn.ReLU()\n",
    "        )\n",
    "        self.conv5 = nn.Sequential(\n",
    "            nn.Conv2d(384, 256, 3, 1, 1),\n",
    "            nn.ReLU(),\n",
    "            nn.MaxPool2d(3, 2)\n",
    "        )\n",
    "\n",
    "        self.fc1 = nn.Linear(256 * 6 * 6, 4096)\n",
    "        self.fc2 = nn.Linear(4096, 4096)\n",
    "        self.fc3 = nn.Linear(4096, 10)\n",
    "\n",
    "    def forward(self, x):\n",
    "        out = self.conv1(x)\n",
    "        out = self.conv2(out)\n",
    "        out = self.conv3(out)\n",
    "        out = self.conv4(out)\n",
    "        out = self.conv5(out)\n",
    "        out = out.view(out.size(0), -1)\n",
    "\n",
    "        out = F.relu(self.fc1(out))  # 256*6*6 -> 4096\n",
    "        out = F.dropout(out, 0.5)\n",
    "        out = F.relu(self.fc2(out))\n",
    "        out = F.dropout(out, 0.5)\n",
    "        out = self.fc3(out)\n",
    "        out = F.log_softmax(out, dim=1)\n",
    "\n",
    "        return out"
   ]
  },
  {
   "cell_type": "code",
   "execution_count": 10,
   "id": "3cbb4ec5",
   "metadata": {},
   "outputs": [],
   "source": [
    "model = fasion_mnist_alexnet().to(DEVICE)\n",
    "criterion = F.nll_loss\n",
    "optimizer = optim.Adam(model.parameters())"
   ]
  },
  {
   "cell_type": "code",
   "execution_count": 11,
   "id": "32e5e6bd",
   "metadata": {},
   "outputs": [],
   "source": [
    "def train(model, device, train_loader, optimer, epoch):\n",
    "    model.train()\n",
    "    for batch_idx, (data, target) in enumerate(train_loader):\n",
    "        target = target.type(torch.LongTensor)\n",
    "        data, target = data.to(device), target.to(device)\n",
    "        optimizer.zero_grad()\n",
    "        output = model(data)\n",
    "        loss = criterion(output, target)\n",
    "        loss.backward()\n",
    "        optimizer.step()\n",
    "        if (batch_idx + 1) % 30 == 0:\n",
    "            print(\"Train Epoch:{} [{}/{} ({:.0f}%)]\\tLoss: {:.6f}\".format(\n",
    "                epoch, batch_idx * len(data), len(train_loader.dataset),\n",
    "                100. * batch_idx / len(train_loader), loss.item()))"
   ]
  },
  {
   "cell_type": "code",
   "execution_count": 12,
   "id": "403c9f42",
   "metadata": {},
   "outputs": [],
   "source": [
    "def test(model, device, test_loader):\n",
    "    model.eval()\n",
    "    test_loss = 0\n",
    "    correct = 0\n",
    "    with torch.no_grad():\n",
    "        for data, target in test_loader:\n",
    "            data, target = data.to(device), target.to(device)\n",
    "            output = model(data)\n",
    "            test_loss += criterion(output, target, reduction='sum').item()\n",
    "            pred = output.max(1, keepdim=True)[1]\n",
    "            correct += pred.eq(target.view_as(pred)).sum().item()\n",
    "\n",
    "        test_loss /= len(test_loader.dataset)\n",
    "        print(\"\\nTest set: Average loss: {:.4f}, Accuracy: {}/{} ({:.0f}%)\\n\".format(\n",
    "            test_loss, correct, len(test_loader.dataset), 100. * correct / len(test_loader.dataset)))\n",
    "        print('='*50)"
   ]
  },
  {
   "cell_type": "code",
   "execution_count": 13,
   "id": "684c8150",
   "metadata": {},
   "outputs": [
    {
     "name": "stdout",
     "output_type": "stream",
     "text": [
      "Train Epoch:1 [14848/60000 (25%)]\tLoss: 0.975081\n",
      "Train Epoch:1 [30208/60000 (50%)]\tLoss: 0.688496\n",
      "Train Epoch:1 [45568/60000 (75%)]\tLoss: 0.495428\n",
      "\n",
      "Test set: Average loss: 0.5159, Accuracy: 8087/10000 (81%)\n",
      "\n",
      "==================================================\n",
      "Train Epoch:2 [14848/60000 (25%)]\tLoss: 0.430755\n",
      "Train Epoch:2 [30208/60000 (50%)]\tLoss: 0.390031\n",
      "Train Epoch:2 [45568/60000 (75%)]\tLoss: 0.441619\n",
      "\n",
      "Test set: Average loss: 0.3435, Accuracy: 8710/10000 (87%)\n",
      "\n",
      "==================================================\n",
      "Train Epoch:3 [14848/60000 (25%)]\tLoss: 0.243208\n",
      "Train Epoch:3 [30208/60000 (50%)]\tLoss: 0.359307\n",
      "Train Epoch:3 [45568/60000 (75%)]\tLoss: 0.332719\n",
      "\n",
      "Test set: Average loss: 0.3079, Accuracy: 8870/10000 (89%)\n",
      "\n",
      "==================================================\n",
      "Train Epoch:4 [14848/60000 (25%)]\tLoss: 0.231636\n",
      "Train Epoch:4 [30208/60000 (50%)]\tLoss: 0.306725\n",
      "Train Epoch:4 [45568/60000 (75%)]\tLoss: 0.234242\n",
      "\n",
      "Test set: Average loss: 0.2668, Accuracy: 9005/10000 (90%)\n",
      "\n",
      "==================================================\n",
      "Train Epoch:5 [14848/60000 (25%)]\tLoss: 0.256721\n",
      "Train Epoch:5 [30208/60000 (50%)]\tLoss: 0.234761\n",
      "Train Epoch:5 [45568/60000 (75%)]\tLoss: 0.237096\n",
      "\n",
      "Test set: Average loss: 0.2493, Accuracy: 9090/10000 (91%)\n",
      "\n",
      "==================================================\n",
      "Train Epoch:6 [14848/60000 (25%)]\tLoss: 0.265467\n",
      "Train Epoch:6 [30208/60000 (50%)]\tLoss: 0.239337\n",
      "Train Epoch:6 [45568/60000 (75%)]\tLoss: 0.193850\n",
      "\n",
      "Test set: Average loss: 0.2400, Accuracy: 9134/10000 (91%)\n",
      "\n",
      "==================================================\n",
      "Train Epoch:7 [14848/60000 (25%)]\tLoss: 0.146621\n",
      "Train Epoch:7 [30208/60000 (50%)]\tLoss: 0.162771\n",
      "Train Epoch:7 [45568/60000 (75%)]\tLoss: 0.272308\n",
      "\n",
      "Test set: Average loss: 0.2330, Accuracy: 9181/10000 (92%)\n",
      "\n",
      "==================================================\n",
      "Train Epoch:8 [14848/60000 (25%)]\tLoss: 0.190693\n",
      "Train Epoch:8 [30208/60000 (50%)]\tLoss: 0.150874\n",
      "Train Epoch:8 [45568/60000 (75%)]\tLoss: 0.205586\n",
      "\n",
      "Test set: Average loss: 0.2242, Accuracy: 9199/10000 (92%)\n",
      "\n",
      "==================================================\n",
      "Train Epoch:9 [14848/60000 (25%)]\tLoss: 0.182046\n",
      "Train Epoch:9 [30208/60000 (50%)]\tLoss: 0.190419\n",
      "Train Epoch:9 [45568/60000 (75%)]\tLoss: 0.197997\n",
      "\n",
      "Test set: Average loss: 0.2257, Accuracy: 9152/10000 (92%)\n",
      "\n",
      "==================================================\n",
      "Train Epoch:10 [14848/60000 (25%)]\tLoss: 0.136757\n",
      "Train Epoch:10 [30208/60000 (50%)]\tLoss: 0.126260\n",
      "Train Epoch:10 [45568/60000 (75%)]\tLoss: 0.171446\n",
      "\n",
      "Test set: Average loss: 0.2003, Accuracy: 9265/10000 (93%)\n",
      "\n",
      "==================================================\n"
     ]
    }
   ],
   "source": [
    "for epoch in range(1, EPOCHS+1):\n",
    "    train(model, DEVICE, train_loader, optimizer, epoch)\n",
    "    test(model, DEVICE, test_loader)"
   ]
  },
  {
   "cell_type": "code",
   "execution_count": null,
   "id": "8011d7c2",
   "metadata": {},
   "outputs": [],
   "source": []
  }
 ],
 "metadata": {
  "kernelspec": {
   "display_name": "Python 3 (ipykernel)",
   "language": "python",
   "name": "python3"
  },
  "language_info": {
   "codemirror_mode": {
    "name": "ipython",
    "version": 3
   },
   "file_extension": ".py",
   "mimetype": "text/x-python",
   "name": "python",
   "nbconvert_exporter": "python",
   "pygments_lexer": "ipython3",
   "version": "3.9.15"
  }
 },
 "nbformat": 4,
 "nbformat_minor": 5
}
